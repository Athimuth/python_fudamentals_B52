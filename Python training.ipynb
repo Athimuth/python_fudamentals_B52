{
 "cells": [
  {
   "cell_type": "code",
   "execution_count": 4,
   "id": "e3a4bc3a",
   "metadata": {},
   "outputs": [
    {
     "name": "stdout",
     "output_type": "stream",
     "text": [
      "rajesh robin\n"
     ]
    }
   ],
   "source": [
    "# Title Method\n",
    "fullname=\"rajesh robin\"\n",
    "print (fullname)\n"
   ]
  },
  {
   "cell_type": "code",
   "execution_count": 5,
   "id": "3349894d",
   "metadata": {},
   "outputs": [
    {
     "name": "stdout",
     "output_type": "stream",
     "text": [
      "Rajesh Robin\n"
     ]
    }
   ],
   "source": [
    "print(fullname.title())"
   ]
  },
  {
   "cell_type": "code",
   "execution_count": 6,
   "id": "884f80af",
   "metadata": {},
   "outputs": [
    {
     "name": "stdout",
     "output_type": "stream",
     "text": [
      "RAJESH ROBIN\n"
     ]
    }
   ],
   "source": [
    "# ful name in capitals\n",
    "print(fullname.upper())"
   ]
  },
  {
   "cell_type": "code",
   "execution_count": 7,
   "id": "b62020e6",
   "metadata": {},
   "outputs": [
    {
     "name": "stdout",
     "output_type": "stream",
     "text": [
      "rajesh robin\n"
     ]
    }
   ],
   "source": [
    "# full name in small letters\n",
    "print(fullname.lower())"
   ]
  },
  {
   "cell_type": "code",
   "execution_count": 11,
   "id": "ceacc859",
   "metadata": {},
   "outputs": [
    {
     "name": "stdout",
     "output_type": "stream",
     "text": [
      "Sachin Jadhav\n"
     ]
    }
   ],
   "source": [
    "# f strings\n",
    "\n",
    "firstname=\"sachin\"\n",
    "lastname=\" jadhav\"\n",
    "fullname=f\"{firstname}{lastname}\"\n",
    "print(fullname.title())"
   ]
  },
  {
   "cell_type": "code",
   "execution_count": 31,
   "id": "d10e7df6",
   "metadata": {},
   "outputs": [],
   "source": [
    "# to appreciate Sachin\n",
    "\n",
    "firstname=\"sachin\"\n",
    "lastname=\" jadhav\"\n",
    "message=f\"keep up the good work,{firstname}{lastname}\""
   ]
  },
  {
   "cell_type": "code",
   "execution_count": 30,
   "id": "e363ae29",
   "metadata": {},
   "outputs": [
    {
     "name": "stdout",
     "output_type": "stream",
     "text": [
      "favourite_language:pythonCjavaC++pascal\n"
     ]
    }
   ],
   "source": [
    "# Adding whitespace\n",
    "\n",
    "# survey to choose the following prog language\n",
    "print(\"favourite_language:pythonCjavaC++pascal\")"
   ]
  },
  {
   "cell_type": "code",
   "execution_count": 17,
   "id": "ad8d6057",
   "metadata": {},
   "outputs": [
    {
     "name": "stdout",
     "output_type": "stream",
     "text": [
      "favourite_language:\n",
      "python\n",
      "C\n",
      "java\n",
      "C++\n",
      "pascal\n"
     ]
    }
   ],
   "source": [
    "print(\"favourite_language:\\npython\\nC\\njava\\nC++\\npascal\")"
   ]
  },
  {
   "cell_type": "code",
   "execution_count": 18,
   "id": "4fb18650",
   "metadata": {},
   "outputs": [
    {
     "name": "stdout",
     "output_type": "stream",
     "text": [
      "favourite_language:\n",
      "\tpython\n",
      "\tC\n",
      "\tjava\n",
      "\tC++\n",
      "\tpascal\n"
     ]
    }
   ],
   "source": [
    "print(\"favourite_language:\\n\\tpython\\n\\tC\\n\\tjava\\n\\tC++\\n\\tpascal\")"
   ]
  },
  {
   "cell_type": "code",
   "execution_count": 19,
   "id": "77a931ab",
   "metadata": {},
   "outputs": [
    {
     "name": "stdout",
     "output_type": "stream",
     "text": [
      "seetharam\n"
     ]
    }
   ],
   "source": [
    "# Removing whitespace from strings\n",
    "name=\"seetharam\"\n",
    "print(name)"
   ]
  },
  {
   "cell_type": "code",
   "execution_count": 21,
   "id": "78422d0a",
   "metadata": {},
   "outputs": [
    {
     "name": "stdout",
     "output_type": "stream",
     "text": [
      "  seetharam\n"
     ]
    }
   ],
   "source": [
    "name1=\"  seetharam\"\n",
    "print(name1)"
   ]
  },
  {
   "cell_type": "code",
   "execution_count": 22,
   "id": "c036d2fe",
   "metadata": {},
   "outputs": [
    {
     "name": "stdout",
     "output_type": "stream",
     "text": [
      " seetharam  \n"
     ]
    }
   ],
   "source": [
    "name2=\" seetharam  \"\n",
    "\n",
    "print(name2)"
   ]
  },
  {
   "cell_type": "code",
   "execution_count": 24,
   "id": "52692beb",
   "metadata": {},
   "outputs": [
    {
     "name": "stdout",
     "output_type": "stream",
     "text": [
      "seetharam\n"
     ]
    }
   ],
   "source": [
    "print(name1.lstrip())"
   ]
  },
  {
   "cell_type": "code",
   "execution_count": 25,
   "id": "73321875",
   "metadata": {},
   "outputs": [
    {
     "name": "stdout",
     "output_type": "stream",
     "text": [
      " seetharam\n"
     ]
    }
   ],
   "source": [
    "print(name2.rstrip())"
   ]
  },
  {
   "cell_type": "code",
   "execution_count": 27,
   "id": "b42faede",
   "metadata": {},
   "outputs": [
    {
     "name": "stdout",
     "output_type": "stream",
     "text": [
      "naveen\n"
     ]
    }
   ],
   "source": [
    "name3=\"  naveen  \"\n",
    "print(name3.strip())"
   ]
  },
  {
   "cell_type": "code",
   "execution_count": 33,
   "id": "648bbd20",
   "metadata": {},
   "outputs": [
    {
     "name": "stdout",
     "output_type": "stream",
     "text": [
      "keep up the good work,sachin jadhav\n"
     ]
    }
   ],
   "source": [
    "# to appreciate Sachin\n",
    "\n",
    "firstname=\"sachin\"\n",
    "lastname=\" jadhav\"\n",
    "message=f\"keep up the good work,{firstname}{lastname}\"\n",
    "print(message)"
   ]
  },
  {
   "cell_type": "code",
   "execution_count": null,
   "id": "b45bdb90",
   "metadata": {},
   "outputs": [],
   "source": []
  },
  {
   "cell_type": "code",
   "execution_count": null,
   "id": "c228df3f",
   "metadata": {},
   "outputs": [],
   "source": []
  }
 ],
 "metadata": {
  "kernelspec": {
   "display_name": "Python 3",
   "language": "python",
   "name": "python3"
  },
  "language_info": {
   "codemirror_mode": {
    "name": "ipython",
    "version": 3
   },
   "file_extension": ".py",
   "mimetype": "text/x-python",
   "name": "python",
   "nbconvert_exporter": "python",
   "pygments_lexer": "ipython3",
   "version": "3.8.8"
  }
 },
 "nbformat": 4,
 "nbformat_minor": 5
}
